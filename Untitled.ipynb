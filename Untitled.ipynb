{
 "cells": [
  {
   "cell_type": "code",
   "execution_count": 60,
   "id": "c781f4fe",
   "metadata": {},
   "outputs": [],
   "source": [
    "from imp import reload\n",
    "from lib import util\n",
    "\n",
    "juno_rpc='http://45.79.74.220:26657'\n",
    "juno_addr = 'juno175q6smvgnuec5e62rs4chnu5cs8d98q2xgf4rx'\n",
    "\n",
    "stargaze_rpc = 'http://173.255.240.182:26657'\n",
    "stargaze_addr = 'stars1hvw778wslvyxh6mmv3sy96mwnaw80elmgw6vp0'"
   ]
  },
  {
   "cell_type": "code",
   "execution_count": 61,
   "id": "118a0610",
   "metadata": {},
   "outputs": [
    {
     "name": "stdout",
     "output_type": "stream",
     "text": [
      "querying page 1\n",
      "querying page 2\n",
      "querying page 3\n"
     ]
    },
    {
     "data": {
      "text/plain": [
       "217"
      ]
     },
     "execution_count": 61,
     "metadata": {},
     "output_type": "execute_result"
    }
   ],
   "source": [
    "query = f\"transfer.recipient='{juno_addr}'\"\n",
    "txs = util.historical_txs(juno_rpc, query)\n",
    "len(txs)"
   ]
  },
  {
   "cell_type": "code",
   "execution_count": 54,
   "id": "c73b0ea1",
   "metadata": {},
   "outputs": [],
   "source": [
    "import json\n",
    "with open('mock-txs.json', 'w') as outfile:\n",
    "    json.dump(txs)"
   ]
  },
  {
   "cell_type": "code",
   "execution_count": 59,
   "id": "aab3fe21",
   "metadata": {},
   "outputs": [
    {
     "ename": "JSONDecodeError",
     "evalue": "Expecting value: line 1 column 1 (char 0)",
     "output_type": "error",
     "traceback": [
      "\u001b[0;31m---------------------------------------------------------------------------\u001b[0m",
      "\u001b[0;31mJSONDecodeError\u001b[0m                           Traceback (most recent call last)",
      "\u001b[0;32m/tmp/ipykernel_3516431/1549561321.py\u001b[0m in \u001b[0;36m<module>\u001b[0;34m\u001b[0m\n\u001b[1;32m      3\u001b[0m         \u001b[0;32mreturn\u001b[0m \u001b[0mjson\u001b[0m\u001b[0;34m.\u001b[0m\u001b[0mload\u001b[0m\u001b[0;34m(\u001b[0m\u001b[0mf\u001b[0m\u001b[0;34m)\u001b[0m\u001b[0;34m\u001b[0m\u001b[0;34m\u001b[0m\u001b[0m\n\u001b[1;32m      4\u001b[0m \u001b[0;34m\u001b[0m\u001b[0m\n\u001b[0;32m----> 5\u001b[0;31m \u001b[0mload_txs\u001b[0m\u001b[0;34m(\u001b[0m\u001b[0;34m)\u001b[0m\u001b[0;34m\u001b[0m\u001b[0;34m\u001b[0m\u001b[0m\n\u001b[0m",
      "\u001b[0;32m/tmp/ipykernel_3516431/1549561321.py\u001b[0m in \u001b[0;36mload_txs\u001b[0;34m()\u001b[0m\n\u001b[1;32m      1\u001b[0m \u001b[0;32mdef\u001b[0m \u001b[0mload_txs\u001b[0m \u001b[0;34m(\u001b[0m\u001b[0;34m)\u001b[0m\u001b[0;34m:\u001b[0m\u001b[0;34m\u001b[0m\u001b[0;34m\u001b[0m\u001b[0m\n\u001b[1;32m      2\u001b[0m     \u001b[0;32mwith\u001b[0m \u001b[0mopen\u001b[0m\u001b[0;34m(\u001b[0m\u001b[0;34m'mock-txs.json'\u001b[0m\u001b[0;34m,\u001b[0m \u001b[0;34m'r'\u001b[0m\u001b[0;34m)\u001b[0m \u001b[0;32mas\u001b[0m \u001b[0mf\u001b[0m\u001b[0;34m:\u001b[0m\u001b[0;34m\u001b[0m\u001b[0;34m\u001b[0m\u001b[0m\n\u001b[0;32m----> 3\u001b[0;31m         \u001b[0;32mreturn\u001b[0m \u001b[0mjson\u001b[0m\u001b[0;34m.\u001b[0m\u001b[0mload\u001b[0m\u001b[0;34m(\u001b[0m\u001b[0mf\u001b[0m\u001b[0;34m)\u001b[0m\u001b[0;34m\u001b[0m\u001b[0;34m\u001b[0m\u001b[0m\n\u001b[0m\u001b[1;32m      4\u001b[0m \u001b[0;34m\u001b[0m\u001b[0m\n\u001b[1;32m      5\u001b[0m \u001b[0mload_txs\u001b[0m\u001b[0;34m(\u001b[0m\u001b[0;34m)\u001b[0m\u001b[0;34m\u001b[0m\u001b[0;34m\u001b[0m\u001b[0m\n",
      "\u001b[0;32m/usr/lib/python3.8/json/__init__.py\u001b[0m in \u001b[0;36mload\u001b[0;34m(fp, cls, object_hook, parse_float, parse_int, parse_constant, object_pairs_hook, **kw)\u001b[0m\n\u001b[1;32m    291\u001b[0m     \u001b[0mkwarg\u001b[0m\u001b[0;34m;\u001b[0m \u001b[0motherwise\u001b[0m\u001b[0;31m \u001b[0m\u001b[0;31m`\u001b[0m\u001b[0;31m`\u001b[0m\u001b[0mJSONDecoder\u001b[0m\u001b[0;31m`\u001b[0m\u001b[0;31m`\u001b[0m \u001b[0;32mis\u001b[0m \u001b[0mused\u001b[0m\u001b[0;34m.\u001b[0m\u001b[0;34m\u001b[0m\u001b[0;34m\u001b[0m\u001b[0m\n\u001b[1;32m    292\u001b[0m     \"\"\"\n\u001b[0;32m--> 293\u001b[0;31m     return loads(fp.read(),\n\u001b[0m\u001b[1;32m    294\u001b[0m         \u001b[0mcls\u001b[0m\u001b[0;34m=\u001b[0m\u001b[0mcls\u001b[0m\u001b[0;34m,\u001b[0m \u001b[0mobject_hook\u001b[0m\u001b[0;34m=\u001b[0m\u001b[0mobject_hook\u001b[0m\u001b[0;34m,\u001b[0m\u001b[0;34m\u001b[0m\u001b[0;34m\u001b[0m\u001b[0m\n\u001b[1;32m    295\u001b[0m         \u001b[0mparse_float\u001b[0m\u001b[0;34m=\u001b[0m\u001b[0mparse_float\u001b[0m\u001b[0;34m,\u001b[0m \u001b[0mparse_int\u001b[0m\u001b[0;34m=\u001b[0m\u001b[0mparse_int\u001b[0m\u001b[0;34m,\u001b[0m\u001b[0;34m\u001b[0m\u001b[0;34m\u001b[0m\u001b[0m\n",
      "\u001b[0;32m/usr/lib/python3.8/json/__init__.py\u001b[0m in \u001b[0;36mloads\u001b[0;34m(s, cls, object_hook, parse_float, parse_int, parse_constant, object_pairs_hook, **kw)\u001b[0m\n\u001b[1;32m    355\u001b[0m             \u001b[0mparse_int\u001b[0m \u001b[0;32mis\u001b[0m \u001b[0;32mNone\u001b[0m \u001b[0;32mand\u001b[0m \u001b[0mparse_float\u001b[0m \u001b[0;32mis\u001b[0m \u001b[0;32mNone\u001b[0m \u001b[0;32mand\u001b[0m\u001b[0;34m\u001b[0m\u001b[0;34m\u001b[0m\u001b[0m\n\u001b[1;32m    356\u001b[0m             parse_constant is None and object_pairs_hook is None and not kw):\n\u001b[0;32m--> 357\u001b[0;31m         \u001b[0;32mreturn\u001b[0m \u001b[0m_default_decoder\u001b[0m\u001b[0;34m.\u001b[0m\u001b[0mdecode\u001b[0m\u001b[0;34m(\u001b[0m\u001b[0ms\u001b[0m\u001b[0;34m)\u001b[0m\u001b[0;34m\u001b[0m\u001b[0;34m\u001b[0m\u001b[0m\n\u001b[0m\u001b[1;32m    358\u001b[0m     \u001b[0;32mif\u001b[0m \u001b[0mcls\u001b[0m \u001b[0;32mis\u001b[0m \u001b[0;32mNone\u001b[0m\u001b[0;34m:\u001b[0m\u001b[0;34m\u001b[0m\u001b[0;34m\u001b[0m\u001b[0m\n\u001b[1;32m    359\u001b[0m         \u001b[0mcls\u001b[0m \u001b[0;34m=\u001b[0m \u001b[0mJSONDecoder\u001b[0m\u001b[0;34m\u001b[0m\u001b[0;34m\u001b[0m\u001b[0m\n",
      "\u001b[0;32m/usr/lib/python3.8/json/decoder.py\u001b[0m in \u001b[0;36mdecode\u001b[0;34m(self, s, _w)\u001b[0m\n\u001b[1;32m    335\u001b[0m \u001b[0;34m\u001b[0m\u001b[0m\n\u001b[1;32m    336\u001b[0m         \"\"\"\n\u001b[0;32m--> 337\u001b[0;31m         \u001b[0mobj\u001b[0m\u001b[0;34m,\u001b[0m \u001b[0mend\u001b[0m \u001b[0;34m=\u001b[0m \u001b[0mself\u001b[0m\u001b[0;34m.\u001b[0m\u001b[0mraw_decode\u001b[0m\u001b[0;34m(\u001b[0m\u001b[0ms\u001b[0m\u001b[0;34m,\u001b[0m \u001b[0midx\u001b[0m\u001b[0;34m=\u001b[0m\u001b[0m_w\u001b[0m\u001b[0;34m(\u001b[0m\u001b[0ms\u001b[0m\u001b[0;34m,\u001b[0m \u001b[0;36m0\u001b[0m\u001b[0;34m)\u001b[0m\u001b[0;34m.\u001b[0m\u001b[0mend\u001b[0m\u001b[0;34m(\u001b[0m\u001b[0;34m)\u001b[0m\u001b[0;34m)\u001b[0m\u001b[0;34m\u001b[0m\u001b[0;34m\u001b[0m\u001b[0m\n\u001b[0m\u001b[1;32m    338\u001b[0m         \u001b[0mend\u001b[0m \u001b[0;34m=\u001b[0m \u001b[0m_w\u001b[0m\u001b[0;34m(\u001b[0m\u001b[0ms\u001b[0m\u001b[0;34m,\u001b[0m \u001b[0mend\u001b[0m\u001b[0;34m)\u001b[0m\u001b[0;34m.\u001b[0m\u001b[0mend\u001b[0m\u001b[0;34m(\u001b[0m\u001b[0;34m)\u001b[0m\u001b[0;34m\u001b[0m\u001b[0;34m\u001b[0m\u001b[0m\n\u001b[1;32m    339\u001b[0m         \u001b[0;32mif\u001b[0m \u001b[0mend\u001b[0m \u001b[0;34m!=\u001b[0m \u001b[0mlen\u001b[0m\u001b[0;34m(\u001b[0m\u001b[0ms\u001b[0m\u001b[0;34m)\u001b[0m\u001b[0;34m:\u001b[0m\u001b[0;34m\u001b[0m\u001b[0;34m\u001b[0m\u001b[0m\n",
      "\u001b[0;32m/usr/lib/python3.8/json/decoder.py\u001b[0m in \u001b[0;36mraw_decode\u001b[0;34m(self, s, idx)\u001b[0m\n\u001b[1;32m    353\u001b[0m             \u001b[0mobj\u001b[0m\u001b[0;34m,\u001b[0m \u001b[0mend\u001b[0m \u001b[0;34m=\u001b[0m \u001b[0mself\u001b[0m\u001b[0;34m.\u001b[0m\u001b[0mscan_once\u001b[0m\u001b[0;34m(\u001b[0m\u001b[0ms\u001b[0m\u001b[0;34m,\u001b[0m \u001b[0midx\u001b[0m\u001b[0;34m)\u001b[0m\u001b[0;34m\u001b[0m\u001b[0;34m\u001b[0m\u001b[0m\n\u001b[1;32m    354\u001b[0m         \u001b[0;32mexcept\u001b[0m \u001b[0mStopIteration\u001b[0m \u001b[0;32mas\u001b[0m \u001b[0merr\u001b[0m\u001b[0;34m:\u001b[0m\u001b[0;34m\u001b[0m\u001b[0;34m\u001b[0m\u001b[0m\n\u001b[0;32m--> 355\u001b[0;31m             \u001b[0;32mraise\u001b[0m \u001b[0mJSONDecodeError\u001b[0m\u001b[0;34m(\u001b[0m\u001b[0;34m\"Expecting value\"\u001b[0m\u001b[0;34m,\u001b[0m \u001b[0ms\u001b[0m\u001b[0;34m,\u001b[0m \u001b[0merr\u001b[0m\u001b[0;34m.\u001b[0m\u001b[0mvalue\u001b[0m\u001b[0;34m)\u001b[0m \u001b[0;32mfrom\u001b[0m \u001b[0;32mNone\u001b[0m\u001b[0;34m\u001b[0m\u001b[0;34m\u001b[0m\u001b[0m\n\u001b[0m\u001b[1;32m    356\u001b[0m         \u001b[0;32mreturn\u001b[0m \u001b[0mobj\u001b[0m\u001b[0;34m,\u001b[0m \u001b[0mend\u001b[0m\u001b[0;34m\u001b[0m\u001b[0;34m\u001b[0m\u001b[0m\n",
      "\u001b[0;31mJSONDecodeError\u001b[0m: Expecting value: line 1 column 1 (char 0)"
     ]
    }
   ],
   "source": [
    "def load_txs ():\n",
    "    with open('mock-txs.json', 'r') as f:\n",
    "        return json.load(f)\n",
    "    \n",
    "load_txs()"
   ]
  },
  {
   "cell_type": "code",
   "execution_count": null,
   "id": "35fa782c",
   "metadata": {},
   "outputs": [],
   "source": [
    "util.events()"
   ]
  },
  {
   "cell_type": "code",
   "execution_count": 9,
   "id": "a3c51d94",
   "metadata": {},
   "outputs": [
    {
     "data": {
      "text/plain": [
       "[{'type': 'coin_received',\n",
       "  'attributes': [{'key': 'receiver',\n",
       "    'value': 'juno175q6smvgnuec5e62rs4chnu5cs8d98q2xgf4rx'},\n",
       "   {'key': 'amount', 'value': '6840387ujuno'}]},\n",
       " {'type': 'coin_spent',\n",
       "  'attributes': [{'key': 'spender',\n",
       "    'value': 'juno1jv65s3grqf6v6jl3dp4t6c9t9rk99cd83d88wr'},\n",
       "   {'key': 'amount', 'value': '6840387ujuno'}]},\n",
       " {'type': 'message',\n",
       "  'attributes': [{'key': 'action',\n",
       "    'value': '/cosmos.distribution.v1beta1.MsgWithdrawDelegatorReward'},\n",
       "   {'key': 'sender', 'value': 'juno1jv65s3grqf6v6jl3dp4t6c9t9rk99cd83d88wr'},\n",
       "   {'key': 'module', 'value': 'distribution'},\n",
       "   {'key': 'sender', 'value': 'juno175q6smvgnuec5e62rs4chnu5cs8d98q2xgf4rx'}]},\n",
       " {'type': 'transfer',\n",
       "  'attributes': [{'key': 'recipient',\n",
       "    'value': 'juno175q6smvgnuec5e62rs4chnu5cs8d98q2xgf4rx'},\n",
       "   {'key': 'sender', 'value': 'juno1jv65s3grqf6v6jl3dp4t6c9t9rk99cd83d88wr'},\n",
       "   {'key': 'amount', 'value': '6840387ujuno'}]},\n",
       " {'type': 'withdraw_rewards',\n",
       "  'attributes': [{'key': 'amount', 'value': '6840387ujuno'},\n",
       "   {'key': 'validator',\n",
       "    'value': 'junovaloper175q6smvgnuec5e62rs4chnu5cs8d98q2e4l6cl'}]}]"
      ]
     },
     "execution_count": 9,
     "metadata": {},
     "output_type": "execute_result"
    }
   ],
   "source": [
    "reload(util)\n",
    "util.extract_receipts(util.events(txs[4]), juno_addr)\n",
    "util.events(txs[4])\n",
    "\n",
    "# TODO - have one tx - use this for tests!"
   ]
  },
  {
   "cell_type": "markdown",
   "id": "077f2bb0",
   "metadata": {},
   "source": [
    "# Total lifetime income"
   ]
  },
  {
   "cell_type": "code",
   "execution_count": 10,
   "id": "3a4baa48",
   "metadata": {},
   "outputs": [],
   "source": [
    "reload(util)\n",
    "inflows, outflows = util.inflows_outflows(txs, juno_addr)"
   ]
  },
  {
   "cell_type": "code",
   "execution_count": 11,
   "id": "d0e46190",
   "metadata": {},
   "outputs": [
    {
     "data": {
      "text/plain": [
       "2037.405522"
      ]
     },
     "execution_count": 11,
     "metadata": {},
     "output_type": "execute_result"
    }
   ],
   "source": [
    "util.udenom_to_readable(sum(inflows)-sum(outflows))"
   ]
  },
  {
   "cell_type": "markdown",
   "id": "63c4a69c",
   "metadata": {},
   "source": [
    "# FMV at time of receipt"
   ]
  },
  {
   "cell_type": "markdown",
   "id": "f36ed9dd",
   "metadata": {},
   "source": [
    "### Block timing"
   ]
  },
  {
   "cell_type": "code",
   "execution_count": 14,
   "id": "63e643d1",
   "metadata": {},
   "outputs": [
    {
     "data": {
      "text/plain": [
       "'2021-10-03T22:19:33.919092076Z'"
      ]
     },
     "execution_count": 14,
     "metadata": {},
     "output_type": "execute_result"
    }
   ],
   "source": [
    "reload(util)\n",
    "util.block_time(juno_rpc, 32970)"
   ]
  },
  {
   "cell_type": "code",
   "execution_count": 15,
   "id": "730648c5",
   "metadata": {},
   "outputs": [],
   "source": [
    "MY_RPC = stargaze_rpc\n",
    "MY_ADDR = stargaze_addr\n",
    "MY_LCD = 'https://rest.stargaze.publicawesome.dev'\n",
    "TOKEN_NAME = \"STARS\""
   ]
  },
  {
   "cell_type": "code",
   "execution_count": 16,
   "id": "68347cd8",
   "metadata": {},
   "outputs": [
    {
     "name": "stdout",
     "output_type": "stream",
     "text": [
      "querying page 1\n",
      "querying page 2\n"
     ]
    }
   ],
   "source": [
    "query = f\"transfer.recipient='{MY_ADDR}'\"\n",
    "txs = util.historical_txs(MY_RPC, query)\n",
    "\n",
    "inflows, outflows = util.inflows_outflows(txs, MY_ADDR)\n",
    "block_times = [util.block_time(MY_RPC, util.block_height(tx)) for tx in txs]"
   ]
  },
  {
   "cell_type": "markdown",
   "id": "aa22f1e9",
   "metadata": {},
   "source": [
    "# Align blocks with historical prices"
   ]
  },
  {
   "cell_type": "markdown",
   "id": "facd6c80",
   "metadata": {},
   "source": [
    "### get historical prices"
   ]
  },
  {
   "cell_type": "code",
   "execution_count": 19,
   "id": "3ff961bb",
   "metadata": {},
   "outputs": [],
   "source": [
    "reload(util)\n",
    "prices = util.historical_prices('STARS')"
   ]
  },
  {
   "cell_type": "code",
   "execution_count": 22,
   "id": "a6260134",
   "metadata": {},
   "outputs": [],
   "source": [
    "# condence into a median price\n",
    "reload(util)\n",
    "historical_fmvs = [(price['time'], util.fmv(price)) for price in  prices]"
   ]
  },
  {
   "cell_type": "code",
   "execution_count": 25,
   "id": "be907b54",
   "metadata": {},
   "outputs": [
    {
     "data": {
      "text/html": [
       "<div>\n",
       "<style scoped>\n",
       "    .dataframe tbody tr th:only-of-type {\n",
       "        vertical-align: middle;\n",
       "    }\n",
       "\n",
       "    .dataframe tbody tr th {\n",
       "        vertical-align: top;\n",
       "    }\n",
       "\n",
       "    .dataframe thead th {\n",
       "        text-align: right;\n",
       "    }\n",
       "</style>\n",
       "<table border=\"1\" class=\"dataframe\">\n",
       "  <thead>\n",
       "    <tr style=\"text-align: right;\">\n",
       "      <th></th>\n",
       "      <th>price</th>\n",
       "    </tr>\n",
       "    <tr>\n",
       "      <th>time</th>\n",
       "      <th></th>\n",
       "    </tr>\n",
       "  </thead>\n",
       "  <tbody>\n",
       "    <tr>\n",
       "      <th>2021-12-18 16:00:00+00:00</th>\n",
       "      <td>0.318709</td>\n",
       "    </tr>\n",
       "    <tr>\n",
       "      <th>2021-12-18 17:00:00+00:00</th>\n",
       "      <td>0.318330</td>\n",
       "    </tr>\n",
       "    <tr>\n",
       "      <th>2021-12-18 18:00:00+00:00</th>\n",
       "      <td>0.289248</td>\n",
       "    </tr>\n",
       "    <tr>\n",
       "      <th>2021-12-18 19:00:00+00:00</th>\n",
       "      <td>0.252188</td>\n",
       "    </tr>\n",
       "    <tr>\n",
       "      <th>2021-12-18 20:00:00+00:00</th>\n",
       "      <td>0.238052</td>\n",
       "    </tr>\n",
       "  </tbody>\n",
       "</table>\n",
       "</div>"
      ],
      "text/plain": [
       "                              price\n",
       "time                               \n",
       "2021-12-18 16:00:00+00:00  0.318709\n",
       "2021-12-18 17:00:00+00:00  0.318330\n",
       "2021-12-18 18:00:00+00:00  0.289248\n",
       "2021-12-18 19:00:00+00:00  0.252188\n",
       "2021-12-18 20:00:00+00:00  0.238052"
      ]
     },
     "execution_count": 25,
     "metadata": {},
     "output_type": "execute_result"
    }
   ],
   "source": [
    "import pandas as pd\n",
    "\n",
    "fmvs_df = pd.DataFrame(historical_fmvs, columns=['time', 'price'])\n",
    "fmvs_df['time'] =   pd.to_datetime(fmvs_df['time'],unit='s')\n",
    "fmvs_df = fmvs_df.set_index('time')\n",
    "fmvs_df.index =  fmvs_df.index.tz_localize('UTC')\n",
    "fmvs_df = fmvs_df.sort_values('time')\n",
    "fmvs_df.head()"
   ]
  },
  {
   "cell_type": "code",
   "execution_count": 26,
   "id": "f82d4922",
   "metadata": {},
   "outputs": [
    {
     "data": {
      "text/html": [
       "<div>\n",
       "<style scoped>\n",
       "    .dataframe tbody tr th:only-of-type {\n",
       "        vertical-align: middle;\n",
       "    }\n",
       "\n",
       "    .dataframe tbody tr th {\n",
       "        vertical-align: top;\n",
       "    }\n",
       "\n",
       "    .dataframe thead th {\n",
       "        text-align: right;\n",
       "    }\n",
       "</style>\n",
       "<table border=\"1\" class=\"dataframe\">\n",
       "  <thead>\n",
       "    <tr style=\"text-align: right;\">\n",
       "      <th></th>\n",
       "      <th>inflow</th>\n",
       "      <th>outflow</th>\n",
       "    </tr>\n",
       "    <tr>\n",
       "      <th>time</th>\n",
       "      <th></th>\n",
       "      <th></th>\n",
       "    </tr>\n",
       "  </thead>\n",
       "  <tbody>\n",
       "    <tr>\n",
       "      <th>2021-10-29 17:53:10.944305673+00:00</th>\n",
       "      <td>28</td>\n",
       "      <td>1000</td>\n",
       "    </tr>\n",
       "    <tr>\n",
       "      <th>2021-10-29 17:53:10.944305673+00:00</th>\n",
       "      <td>28</td>\n",
       "      <td>1000</td>\n",
       "    </tr>\n",
       "  </tbody>\n",
       "</table>\n",
       "</div>"
      ],
      "text/plain": [
       "                                     inflow  outflow\n",
       "time                                                \n",
       "2021-10-29 17:53:10.944305673+00:00      28     1000\n",
       "2021-10-29 17:53:10.944305673+00:00      28     1000"
      ]
     },
     "execution_count": 26,
     "metadata": {},
     "output_type": "execute_result"
    }
   ],
   "source": [
    "inflow_outflow_df = pd.DataFrame({\n",
    "    'time': block_times,\n",
    "    'inflow': inflows,\n",
    "    'outflow': outflows,\n",
    "})\n",
    "inflow_outflow_df['time'] = pd.to_datetime(inflow_outflow_df['time'])\n",
    "inflow_outflow_df = inflow_outflow_df.set_index('time').sort_values('time')\n",
    "inflow_outflow_df.head()"
   ]
  },
  {
   "cell_type": "markdown",
   "id": "1f7497f5",
   "metadata": {},
   "source": [
    "### align blocks to nearest time"
   ]
  },
  {
   "cell_type": "code",
   "execution_count": 27,
   "id": "874cbf8c",
   "metadata": {},
   "outputs": [],
   "source": [
    "merged_df = pd.merge_asof(inflow_outflow_df, fmvs_df, on='time', direction='nearest')"
   ]
  },
  {
   "cell_type": "markdown",
   "id": "5ab14186",
   "metadata": {},
   "source": [
    "# Place airdrop in financial year\n",
    "\n",
    "airdrop amount is our current balance minus the inflow for which we've accounted in `priced_df`"
   ]
  },
  {
   "cell_type": "code",
   "execution_count": 28,
   "id": "563d21c4",
   "metadata": {},
   "outputs": [],
   "source": [
    "merged_df['net'] = merged_df['inflow'] - merged_df['outflow']\n",
    "assert(merged_df['net'].sum() == sum(inflows) - sum(outflows))"
   ]
  },
  {
   "cell_type": "code",
   "execution_count": 45,
   "id": "5e07b86c",
   "metadata": {},
   "outputs": [
    {
     "data": {
      "text/plain": [
       "520927000028"
      ]
     },
     "execution_count": 45,
     "metadata": {},
     "output_type": "execute_result"
    }
   ],
   "source": [
    "reload(util)\n",
    "util.get_holdings(MY_LCD, MY_ADDR)"
   ]
  },
  {
   "cell_type": "code",
   "execution_count": 47,
   "id": "046026ee",
   "metadata": {},
   "outputs": [],
   "source": [
    "currently_delegated_balance =  util.get_holdings(MY_LCD, MY_ADDR)\n",
    "\n",
    "# airdrop -  priced_df['inflow'].sum()\n",
    "airdropped_amount = currently_delegated_balance - merged_df['net'].sum()"
   ]
  },
  {
   "cell_type": "markdown",
   "id": "d7c64bcf",
   "metadata": {},
   "source": [
    "the airdrop happened at network genesis. its price will relate to the first FMV."
   ]
  },
  {
   "cell_type": "code",
   "execution_count": 48,
   "id": "6f432677",
   "metadata": {},
   "outputs": [],
   "source": [
    "initial_fmv = fmvs_df.iloc[0]\n",
    "airdrop_price = initial_fmv.price\n",
    "airdrop_time = initial_fmv.name\n",
    "\n",
    "airdrop = pd.DataFrame({\n",
    "    'time': airdrop_time,\n",
    "    'inflow': airdropped_amount, \n",
    "    'outflow': 0, \n",
    "    'price': airdrop_price,\n",
    "    'net': airdropped_amount,\n",
    "},index=[0])\n",
    "\n",
    "merged_df = pd.concat(\n",
    "    [airdrop,\n",
    "    merged_df]\n",
    ")\n"
   ]
  },
  {
   "cell_type": "markdown",
   "id": "4702ddf2",
   "metadata": {},
   "source": [
    "# Compute liability"
   ]
  },
  {
   "cell_type": "code",
   "execution_count": 50,
   "id": "bd5ab674",
   "metadata": {},
   "outputs": [
    {
     "data": {
      "text/plain": [
       "166024.34967284443"
      ]
     },
     "execution_count": 50,
     "metadata": {},
     "output_type": "execute_result"
    }
   ],
   "source": [
    "merged_df['net_usd'] = util.udenom_to_readable(merged_df['net'] * merged_df['price'])\n",
    "\n",
    "merged_df_fy =  merged_df[(merged_df['time']>='2021-01-01') &\n",
    "                          (merged_df['time']<'2022-01-01') ]\n",
    "\n",
    "merged_df_fy['net_usd'].sum()"
   ]
  }
 ],
 "metadata": {
  "kernelspec": {
   "display_name": "Python 3 (ipykernel)",
   "language": "python",
   "name": "python3"
  },
  "language_info": {
   "codemirror_mode": {
    "name": "ipython",
    "version": 3
   },
   "file_extension": ".py",
   "mimetype": "text/x-python",
   "name": "python",
   "nbconvert_exporter": "python",
   "pygments_lexer": "ipython3",
   "version": "3.8.10"
  }
 },
 "nbformat": 4,
 "nbformat_minor": 5
}
