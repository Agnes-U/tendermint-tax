{
 "cells": [
  {
   "cell_type": "code",
   "execution_count": 1,
   "id": "c781f4fe",
   "metadata": {},
   "outputs": [],
   "source": [
    "from requests import get, post\n",
    "from funcy import flatten\n",
    "import math\n",
    "import base64\n",
    "import pandas as pd\n",
    "import json\n",
    "from typing import List, Dict\n",
    "\n",
    "juno_rpc='http://45.79.74.220:26657'\n",
    "juno_addr = 'juno175q6smvgnuec5e62rs4chnu5cs8d98q2xgf4rx'\n",
    "\n",
    "stargaze_rpc = 'http://173.255.240.182:26657'\n",
    "stargaze_addr = 'stars1hvw778wslvyxh6mmv3sy96mwnaw80elmgw6vp0'"
   ]
  },
  {
   "cell_type": "code",
   "execution_count": 2,
   "id": "118a0610",
   "metadata": {},
   "outputs": [],
   "source": [
    "def tx_search (rpc, query, page='1', per_page='100') -> List[Dict]:\n",
    "    '''\n",
    "    See: htps://docs.tendermint.com/master/app-dev/indexing-transactions.html\n",
    "    \n",
    "    e.g.,\n",
    "    \n",
    "       curl --header \"Content-Type: application/json\" --request POST --data '{\"method\": \"tx_search\", \"params\": [\"3D1000\", \"true\", \"1\", \"30\", \"asc\"], \"id\": 0}' cro-croeseid.alchemyapi.io/your-api-key/tendermint\n",
    "    \n",
    "    params:\n",
    "    \n",
    "    - query - string, required query.\n",
    "    - prove - boolean, include proofs of the transactions inclusion in the block. Default value = false\n",
    "    - page - integer, page number (1-based). Default value = 1\n",
    "    - per_page - integer, number of entries per page (max: 100). Default value = 30. \n",
    "    - order_by - string, Order in which transactions are sorted (\"asc\" or \"desc\"), by height & index. If empty, default sorting will be still applied. Default value = asc\n",
    "    '''\n",
    "    q =  {\n",
    "        \"method\": \"tx_search\",\n",
    "        \"params\": [\n",
    "            # query\n",
    "            query,\n",
    "            # prove\n",
    "            False,\n",
    "            # page\n",
    "            page,\n",
    "            # per_page\n",
    "            per_page,\n",
    "            # order_by\n",
    "            'asc',\n",
    "        ],\n",
    "        \"id\": 0,\n",
    "    }\n",
    "    resp = post(rpc, json=q)\n",
    "    return resp.json()\n",
    "\n",
    "def historical_txs (rpc, query) -> List[Dict]:\n",
    "    txs = []\n",
    "    per_page = 100\n",
    "    print('querying page 1')\n",
    "    res = tx_search(rpc, query, per_page=str(per_page))\n",
    "    total = int(res['result']['total_count'])\n",
    "    txs.append(res['result']['txs'])\n",
    "    n_pages = math.ceil(total/per_page)\n",
    "    pages_left = n_pages\n",
    "    for i in range(pages_left):\n",
    "        print('querying page',2+i)\n",
    "        res = tx_search(rpc, query, page=str(1+i), per_page=str(per_page))\n",
    "        txs.append(res['result']['txs'])\n",
    "    return list(flatten(txs))\n",
    "\n",
    "# query = f\"transfer.recipient='{juno_addr}'\"\n",
    "# query = f\"transfer.recipient='{juno_addr}'\"\n",
    "# txs = historical_txs(juno_rpc, query)\n",
    "# len(txs)"
   ]
  },
  {
   "cell_type": "code",
   "execution_count": 3,
   "id": "6794b824",
   "metadata": {},
   "outputs": [],
   "source": [
    "from typing import List, Dict\n",
    "\n",
    "def find_attr_value (attrs: List[Dict], attr_key: str):\n",
    "    return [a for a in attrs if a['key']==attr_key][0]['value']\n",
    "\n",
    "def udenom_to_int (udenom: str) -> int:\n",
    "    return int(udenom.split('u')[0])"
   ]
  },
  {
   "cell_type": "code",
   "execution_count": 4,
   "id": "a3c51d94",
   "metadata": {},
   "outputs": [],
   "source": [
    "def events (tx: Dict) -> List[Dict]:\n",
    "    tx_events = []\n",
    "    log = json.loads(tx['tx_result']['log'])\n",
    "    for item in log:\n",
    "        tx_events.append(item['events'])\n",
    "    return list(flatten(tx_events))\n",
    "\n",
    "def extract_reward_income (events: List[Dict], event_type):\n",
    "    denoms = []\n",
    "    for event in events:\n",
    "        if event['type'] == event_type:\n",
    "            attrs = event['attributes']\n",
    "            v = find_attr_value(attrs, 'amount')\n",
    "            v = udenom_to_int(v)\n",
    "            denoms.append(v)\n",
    "    return denoms\n",
    "\n",
    "def extract_transfer (events: List[Dict], event_type: str, attr_key: str, attr_value: str) -> List[int]:\n",
    "    '''\n",
    "    TODO - pretty similar to method above\n",
    "    '''\n",
    "    denoms = []\n",
    "    for event in events:\n",
    "        if event['type'] == event_type:\n",
    "            attrs = event['attributes']\n",
    "            x = find_attr_value(attrs, attr_key)\n",
    "            if x == attr_value:\n",
    "                v = find_attr_value(attrs, 'amount')\n",
    "                v = udenom_to_int(v)\n",
    "                denoms.append(v)\n",
    "    return denoms\n",
    "\n",
    "def extract_staking_rewards (events) -> List[int]:\n",
    "    return extract_reward_income(events, 'withdraw_commission')\n",
    "    \n",
    "def extract_staking_commission (events) -> List[int]:\n",
    "    return extract_reward_income(events, 'withdraw_rewards')\n",
    "\n",
    "def extract_staking_delegations(events) -> List[int]:\n",
    "    return extract_reward_income(events, 'delegate')\n",
    "\n",
    "def extract_receipts (events: List[Dict], my_address: str) -> List[int]:\n",
    "    return  extract_transfer(events, 'transfer', 'recipient', my_address) #+ extract_transfer(events, 'coin_received', 'receiver', my_address)\n",
    "\n",
    "def extract_spends (events: List[Dict], my_address: str):\n",
    "    return  extract_transfer(events, 'transfer', 'sender', my_address) # extract_transfer(events, 'coin_spent', 'spender', my_address) +\n",
    "\n",
    "# extract_receipts(events(txs[4]), juno_addr)\n",
    "# events(txs[4])\n"
   ]
  },
  {
   "cell_type": "markdown",
   "id": "077f2bb0",
   "metadata": {},
   "source": [
    "# Total lifetime income"
   ]
  },
  {
   "cell_type": "code",
   "execution_count": 21,
   "id": "f32f0431",
   "metadata": {},
   "outputs": [],
   "source": [
    "def udenom_to_readable(udenom: int) -> float:\n",
    "    return udenom/1000000\n",
    "\n",
    "def inflows_outflows (txs: List[Dict], my_address:str) -> float:\n",
    "    inflows = []\n",
    "    outflows = []\n",
    "    for tx in txs:\n",
    "        es = events(tx)\n",
    "        inflow = extract_staking_rewards(es) + extract_staking_commission(es) + extract_receipts(es, my_address)\n",
    "        outflow =  extract_staking_delegations(es) + extract_spends(es, my_address)\n",
    "        inflows.append(sum(flatten(inflow)))\n",
    "        outflows.append(sum(flatten(outflow)))\n",
    "    return inflows, outflows"
   ]
  },
  {
   "cell_type": "code",
   "execution_count": 22,
   "id": "3a4baa48",
   "metadata": {},
   "outputs": [],
   "source": [
    "# query = f\"transfer.recipient='{juno_addr}'\"\n",
    "# txs = historical_txs(juno_rpc, query)\n",
    "# inflows, outflows = inflows_outflows(txs, juno_addr)"
   ]
  },
  {
   "cell_type": "code",
   "execution_count": 7,
   "id": "d0e46190",
   "metadata": {},
   "outputs": [],
   "source": [
    "# udenom_to_readable(sum(inflows)-sum(outflows))"
   ]
  },
  {
   "cell_type": "markdown",
   "id": "63c4a69c",
   "metadata": {},
   "source": [
    "# FMV at time of receipt"
   ]
  },
  {
   "cell_type": "markdown",
   "id": "f36ed9dd",
   "metadata": {},
   "source": [
    "### Block timing"
   ]
  },
  {
   "cell_type": "code",
   "execution_count": 8,
   "id": "250d9009",
   "metadata": {},
   "outputs": [],
   "source": [
    "def block_height (tx) -> int:\n",
    "    return int(tx['height'])\n",
    "\n",
    "# get_block_height(ex_tx)"
   ]
  },
  {
   "cell_type": "code",
   "execution_count": 9,
   "id": "63e643d1",
   "metadata": {},
   "outputs": [],
   "source": [
    "def block_time (rpc: str, height: int) -> str:\n",
    "    return get(f'{rpc}/block?height={height}').json()['result']['block']['header']['time']\n",
    "\n",
    "\n",
    "# get_block_time(juno_rpc, 32970)"
   ]
  },
  {
   "cell_type": "code",
   "execution_count": 39,
   "id": "730648c5",
   "metadata": {},
   "outputs": [],
   "source": [
    "MY_RPC = stargaze_rpc\n",
    "MY_ADDR = stargaze_addr\n",
    "MY_LCD = 'https://rest.stargaze.publicawesome.dev'\n",
    "TOKEN_NAME = \"STARS\""
   ]
  },
  {
   "cell_type": "code",
   "execution_count": 40,
   "id": "68347cd8",
   "metadata": {},
   "outputs": [
    {
     "name": "stdout",
     "output_type": "stream",
     "text": [
      "querying page 1\n",
      "querying page 2\n"
     ]
    }
   ],
   "source": [
    "query = f\"transfer.recipient='{MY_ADDR}'\"\n",
    "txs = historical_txs(MY_RPC, query)\n",
    "\n",
    "inflows, outflows = inflows_outflows(txs, MY_ADDR)\n",
    "block_times = [block_time(MY_RPC, block_height(tx)) for tx in txs]"
   ]
  },
  {
   "cell_type": "markdown",
   "id": "aa22f1e9",
   "metadata": {},
   "source": [
    "# Align blocks with historical prices"
   ]
  },
  {
   "cell_type": "markdown",
   "id": "facd6c80",
   "metadata": {},
   "source": [
    "### get historical prices"
   ]
  },
  {
   "cell_type": "code",
   "execution_count": 41,
   "id": "3ff961bb",
   "metadata": {},
   "outputs": [],
   "source": [
    "def historical_prices (coin:str) -> List[Dict]:\n",
    "    return get(f'https://api-osmosis.imperator.co/tokens/v1/historical/{coin}/chart?range=365d').json()\n",
    "\n",
    "prices = historical_prices('STARS')"
   ]
  },
  {
   "cell_type": "code",
   "execution_count": 42,
   "id": "a6260134",
   "metadata": {},
   "outputs": [],
   "source": [
    "# condence into a median price\n",
    "def fmv (price):\n",
    "    return (price['high'] + price['low']) / 2\n",
    "\n",
    "historical_fmvs = [(price['time'], fmv(price)) for price in  prices]"
   ]
  },
  {
   "cell_type": "code",
   "execution_count": 43,
   "id": "be907b54",
   "metadata": {},
   "outputs": [
    {
     "data": {
      "text/html": [
       "<div>\n",
       "<style scoped>\n",
       "    .dataframe tbody tr th:only-of-type {\n",
       "        vertical-align: middle;\n",
       "    }\n",
       "\n",
       "    .dataframe tbody tr th {\n",
       "        vertical-align: top;\n",
       "    }\n",
       "\n",
       "    .dataframe thead th {\n",
       "        text-align: right;\n",
       "    }\n",
       "</style>\n",
       "<table border=\"1\" class=\"dataframe\">\n",
       "  <thead>\n",
       "    <tr style=\"text-align: right;\">\n",
       "      <th></th>\n",
       "      <th>price</th>\n",
       "    </tr>\n",
       "    <tr>\n",
       "      <th>time</th>\n",
       "      <th></th>\n",
       "    </tr>\n",
       "  </thead>\n",
       "  <tbody>\n",
       "    <tr>\n",
       "      <th>2021-12-18 16:00:00+00:00</th>\n",
       "      <td>0.318709</td>\n",
       "    </tr>\n",
       "    <tr>\n",
       "      <th>2021-12-18 17:00:00+00:00</th>\n",
       "      <td>0.318330</td>\n",
       "    </tr>\n",
       "    <tr>\n",
       "      <th>2021-12-18 18:00:00+00:00</th>\n",
       "      <td>0.289248</td>\n",
       "    </tr>\n",
       "    <tr>\n",
       "      <th>2021-12-18 19:00:00+00:00</th>\n",
       "      <td>0.252188</td>\n",
       "    </tr>\n",
       "    <tr>\n",
       "      <th>2021-12-18 20:00:00+00:00</th>\n",
       "      <td>0.238052</td>\n",
       "    </tr>\n",
       "  </tbody>\n",
       "</table>\n",
       "</div>"
      ],
      "text/plain": [
       "                              price\n",
       "time                               \n",
       "2021-12-18 16:00:00+00:00  0.318709\n",
       "2021-12-18 17:00:00+00:00  0.318330\n",
       "2021-12-18 18:00:00+00:00  0.289248\n",
       "2021-12-18 19:00:00+00:00  0.252188\n",
       "2021-12-18 20:00:00+00:00  0.238052"
      ]
     },
     "execution_count": 43,
     "metadata": {},
     "output_type": "execute_result"
    }
   ],
   "source": [
    "fmvs_df = pd.DataFrame(historical_fmvs, columns=['time', 'price'])\n",
    "fmvs_df['time'] =   pd.to_datetime(fmvs_df['time'],unit='s')\n",
    "fmvs_df = fmvs_df.set_index('time')\n",
    "fmvs_df.index =  fmvs_df.index.tz_localize('UTC')\n",
    "fmvs_df = fmvs_df.sort_values('time')\n",
    "fmvs_df.head()"
   ]
  },
  {
   "cell_type": "code",
   "execution_count": 44,
   "id": "f82d4922",
   "metadata": {},
   "outputs": [
    {
     "data": {
      "text/html": [
       "<div>\n",
       "<style scoped>\n",
       "    .dataframe tbody tr th:only-of-type {\n",
       "        vertical-align: middle;\n",
       "    }\n",
       "\n",
       "    .dataframe tbody tr th {\n",
       "        vertical-align: top;\n",
       "    }\n",
       "\n",
       "    .dataframe thead th {\n",
       "        text-align: right;\n",
       "    }\n",
       "</style>\n",
       "<table border=\"1\" class=\"dataframe\">\n",
       "  <thead>\n",
       "    <tr style=\"text-align: right;\">\n",
       "      <th></th>\n",
       "      <th>inflow</th>\n",
       "      <th>outflow</th>\n",
       "    </tr>\n",
       "    <tr>\n",
       "      <th>time</th>\n",
       "      <th></th>\n",
       "      <th></th>\n",
       "    </tr>\n",
       "  </thead>\n",
       "  <tbody>\n",
       "    <tr>\n",
       "      <th>2021-10-29 17:53:10.944305673+00:00</th>\n",
       "      <td>28</td>\n",
       "      <td>1000</td>\n",
       "    </tr>\n",
       "    <tr>\n",
       "      <th>2021-10-29 17:53:10.944305673+00:00</th>\n",
       "      <td>28</td>\n",
       "      <td>1000</td>\n",
       "    </tr>\n",
       "  </tbody>\n",
       "</table>\n",
       "</div>"
      ],
      "text/plain": [
       "                                     inflow  outflow\n",
       "time                                                \n",
       "2021-10-29 17:53:10.944305673+00:00      28     1000\n",
       "2021-10-29 17:53:10.944305673+00:00      28     1000"
      ]
     },
     "execution_count": 44,
     "metadata": {},
     "output_type": "execute_result"
    }
   ],
   "source": [
    "inflow_outflow_df = pd.DataFrame({\n",
    "    'time': block_times,\n",
    "    'inflow': inflows,\n",
    "    'outflow': outflows,\n",
    "})\n",
    "inflow_outflow_df['time'] = pd.to_datetime(inflow_outflow_df['time'])\n",
    "inflow_outflow_df = inflow_outflow_df.set_index('time').sort_values('time')\n",
    "inflow_outflow_df.head()"
   ]
  },
  {
   "cell_type": "markdown",
   "id": "1f7497f5",
   "metadata": {},
   "source": [
    "### align blocks to nearest time"
   ]
  },
  {
   "cell_type": "code",
   "execution_count": 45,
   "id": "874cbf8c",
   "metadata": {},
   "outputs": [],
   "source": [
    "merged_df = pd.merge_asof(inflow_outflow_df, fmvs_df, on='time', direction='nearest')"
   ]
  },
  {
   "cell_type": "markdown",
   "id": "5ab14186",
   "metadata": {},
   "source": [
    "# Place airdrop in financial year\n",
    "\n",
    "airdrop amount is our current balance minus the inflow for which we've accounted in `priced_df`"
   ]
  },
  {
   "cell_type": "code",
   "execution_count": 46,
   "id": "563d21c4",
   "metadata": {},
   "outputs": [],
   "source": [
    "merged_df['net'] = merged_df['inflow'] - merged_df['outflow']\n",
    "assert(merged_df['net'].sum() == sum(inflows) - sum(outflows))"
   ]
  },
  {
   "cell_type": "code",
   "execution_count": 49,
   "id": "046026ee",
   "metadata": {},
   "outputs": [],
   "source": [
    "def get_amount (balance: dict) -> int:\n",
    "    return int(balance['amount'])\n",
    "\n",
    "def get_delegations (rest_endpoint: str, address: str) -> List[int]:\n",
    "    resp = get(\n",
    "        rest_endpoint +  f\"/cosmos/staking/v1beta1/delegations/{address}\"\n",
    "    ).json()\n",
    "    return [get_amount(d['balance']) for d in resp['delegation_responses']]\n",
    "\n",
    "currently_delegated_balance =  get_delegations(MY_LCD, MY_ADDR)[0] \n",
    "\n",
    "# airdrop -  priced_df['inflow'].sum()\n",
    "airdropped_amount = currently_delegated_balance - merged_df['net'].sum()"
   ]
  },
  {
   "cell_type": "markdown",
   "id": "d7c64bcf",
   "metadata": {},
   "source": [
    "the airdrop happened at network genesis. its price will relate to the first FMV."
   ]
  },
  {
   "cell_type": "code",
   "execution_count": 50,
   "id": "6f432677",
   "metadata": {},
   "outputs": [],
   "source": [
    "initial_fmv = fmvs_df.iloc[0]\n",
    "airdrop_price = initial_fmv.price\n",
    "airdrop_time = initial_fmv.name\n",
    "\n",
    "airdrop = pd.DataFrame({\n",
    "    'time': airdrop_time,\n",
    "    'inflow': airdropped_amount, \n",
    "    'outflow': 0, \n",
    "    'price': airdrop_price,\n",
    "    'net': airdropped_amount,\n",
    "},index=[0])\n",
    "\n",
    "merged_df = pd.concat(\n",
    "    [airdrop,\n",
    "    merged_df]\n",
    ")\n"
   ]
  },
  {
   "cell_type": "markdown",
   "id": "4702ddf2",
   "metadata": {},
   "source": [
    "# Compute liability"
   ]
  },
  {
   "cell_type": "code",
   "execution_count": 51,
   "id": "bd5ab674",
   "metadata": {},
   "outputs": [
    {
     "data": {
      "text/plain": [
       "166024.34967284443"
      ]
     },
     "execution_count": 51,
     "metadata": {},
     "output_type": "execute_result"
    }
   ],
   "source": [
    "merged_df['net_usd'] = udenom_to_readable(merged_df['net'] * merged_df['price'])\n",
    "\n",
    "merged_df_fy =  merged_df[(merged_df['time']>='2021-01-01') &\n",
    "                          (merged_df['time']<'2022-01-01') ]\n",
    "\n",
    "merged_df_fy['net_usd'].sum()"
   ]
  },
  {
   "cell_type": "code",
   "execution_count": 52,
   "id": "726292bf",
   "metadata": {},
   "outputs": [
    {
     "data": {
      "text/html": [
       "<div>\n",
       "<style scoped>\n",
       "    .dataframe tbody tr th:only-of-type {\n",
       "        vertical-align: middle;\n",
       "    }\n",
       "\n",
       "    .dataframe tbody tr th {\n",
       "        vertical-align: top;\n",
       "    }\n",
       "\n",
       "    .dataframe thead th {\n",
       "        text-align: right;\n",
       "    }\n",
       "</style>\n",
       "<table border=\"1\" class=\"dataframe\">\n",
       "  <thead>\n",
       "    <tr style=\"text-align: right;\">\n",
       "      <th></th>\n",
       "      <th>time</th>\n",
       "      <th>inflow</th>\n",
       "      <th>outflow</th>\n",
       "      <th>price</th>\n",
       "      <th>net</th>\n",
       "      <th>net_usd</th>\n",
       "    </tr>\n",
       "  </thead>\n",
       "  <tbody>\n",
       "    <tr>\n",
       "      <th>0</th>\n",
       "      <td>2021-12-18 16:00:00+00:00</td>\n",
       "      <td>520927001972</td>\n",
       "      <td>0</td>\n",
       "      <td>0.318709</td>\n",
       "      <td>520927001972</td>\n",
       "      <td>166024.350292</td>\n",
       "    </tr>\n",
       "    <tr>\n",
       "      <th>0</th>\n",
       "      <td>2021-10-29 17:53:10.944305673+00:00</td>\n",
       "      <td>28</td>\n",
       "      <td>1000</td>\n",
       "      <td>0.318709</td>\n",
       "      <td>-972</td>\n",
       "      <td>-0.000310</td>\n",
       "    </tr>\n",
       "    <tr>\n",
       "      <th>1</th>\n",
       "      <td>2021-10-29 17:53:10.944305673+00:00</td>\n",
       "      <td>28</td>\n",
       "      <td>1000</td>\n",
       "      <td>0.318709</td>\n",
       "      <td>-972</td>\n",
       "      <td>-0.000310</td>\n",
       "    </tr>\n",
       "  </tbody>\n",
       "</table>\n",
       "</div>"
      ],
      "text/plain": [
       "                                 time        inflow  outflow     price  \\\n",
       "0           2021-12-18 16:00:00+00:00  520927001972        0  0.318709   \n",
       "0 2021-10-29 17:53:10.944305673+00:00            28     1000  0.318709   \n",
       "1 2021-10-29 17:53:10.944305673+00:00            28     1000  0.318709   \n",
       "\n",
       "            net        net_usd  \n",
       "0  520927001972  166024.350292  \n",
       "0          -972      -0.000310  \n",
       "1          -972      -0.000310  "
      ]
     },
     "execution_count": 52,
     "metadata": {},
     "output_type": "execute_result"
    }
   ],
   "source": [
    "merged_df"
   ]
  }
 ],
 "metadata": {
  "kernelspec": {
   "display_name": "Python 3 (ipykernel)",
   "language": "python",
   "name": "python3"
  },
  "language_info": {
   "codemirror_mode": {
    "name": "ipython",
    "version": 3
   },
   "file_extension": ".py",
   "mimetype": "text/x-python",
   "name": "python",
   "nbconvert_exporter": "python",
   "pygments_lexer": "ipython3",
   "version": "3.8.10"
  }
 },
 "nbformat": 4,
 "nbformat_minor": 5
}
