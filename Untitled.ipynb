{
 "cells": [
  {
   "cell_type": "code",
   "execution_count": 542,
   "id": "c781f4fe",
   "metadata": {},
   "outputs": [],
   "source": [
    "from requests import get, post\n",
    "from funcy import flatten\n",
    "import math\n",
    "import base64\n",
    "\n",
    "juno_rpc='http://45.79.74.220:26657'\n",
    "juno_addr = 'juno175q6smvgnuec5e62rs4chnu5cs8d98q2xgf4rx'\n",
    "\n",
    "stargaze_rpc = 'http://173.255.240.182:26657'\n",
    "stargaze_addr = 'stars1hvw778wslvyxh6mmv3sy96mwnaw80elmgw6vp0'"
   ]
  },
  {
   "cell_type": "code",
   "execution_count": 473,
   "id": "118a0610",
   "metadata": {},
   "outputs": [
    {
     "name": "stdout",
     "output_type": "stream",
     "text": [
      "querying page 1\n",
      "querying page 2\n",
      "querying page 3\n"
     ]
    },
    {
     "data": {
      "text/plain": [
       "215"
      ]
     },
     "execution_count": 473,
     "metadata": {},
     "output_type": "execute_result"
    }
   ],
   "source": [
    "def tx_search (rpc, query, page='1', per_page='100') -> List[Dict]:\n",
    "    '''\n",
    "    See: htps://docs.tendermint.com/master/app-dev/indexing-transactions.html\n",
    "    \n",
    "    e.g.,\n",
    "    \n",
    "       curl --header \"Content-Type: application/json\" --request POST --data '{\"method\": \"tx_search\", \"params\": [\"3D1000\", \"true\", \"1\", \"30\", \"asc\"], \"id\": 0}' cro-croeseid.alchemyapi.io/your-api-key/tendermint\n",
    "    \n",
    "    params:\n",
    "    \n",
    "    - query - string, required query.\n",
    "    - prove - boolean, include proofs of the transactions inclusion in the block. Default value = false\n",
    "    - page - integer, page number (1-based). Default value = 1\n",
    "    - per_page - integer, number of entries per page (max: 100). Default value = 30. \n",
    "    - order_by - string, Order in which transactions are sorted (\"asc\" or \"desc\"), by height & index. If empty, default sorting will be still applied. Default value = asc\n",
    "    '''\n",
    "    q =  {\n",
    "        \"method\": \"tx_search\",\n",
    "        \"params\": [\n",
    "            # query\n",
    "            query,\n",
    "            # prove\n",
    "            False,\n",
    "            # page\n",
    "            page,\n",
    "            # per_page\n",
    "            per_page,\n",
    "            # order_by\n",
    "            'asc',\n",
    "        ],\n",
    "        \"id\": 0,\n",
    "    }\n",
    "    resp = post(rpc, json=q)\n",
    "    return resp.json()\n",
    "\n",
    "def historical_txs (rpc, query) -> List[Dict]:\n",
    "    txs = []\n",
    "    per_page = 100\n",
    "    print('querying page 1')\n",
    "    res = tx_search(rpc, query, per_page=str(per_page))\n",
    "    total = int(res['result']['total_count'])\n",
    "    txs.append(res['result']['txs'])\n",
    "    n_pages = math.ceil(total/per_page)\n",
    "    pages_left = n_pages\n",
    "    for i in range(pages_left):\n",
    "        print('querying page',2+i)\n",
    "        res = tx_search(rpc, query, page=str(1+i), per_page=str(per_page))\n",
    "        txs.append(res['result']['txs'])\n",
    "    return list(flatten(txs))\n",
    "\n",
    "# query = f\"transfer.recipient='{juno_addr}'\"\n",
    "query = f\"transfer.recipient='{juno_addr}'\"\n",
    "txs = historical_txs(juno_rpc, query)\n",
    "len(txs)"
   ]
  },
  {
   "cell_type": "code",
   "execution_count": 474,
   "id": "6794b824",
   "metadata": {},
   "outputs": [],
   "source": [
    "from typing import List, Dict\n",
    "\n",
    "def find_attr_value (attrs: List[Dict], attr_key: str):\n",
    "    return [a for a in attrs if a['key']==attr_key][0]['value']\n",
    "\n",
    "def udenom_to_int (udenom: str) -> int:\n",
    "    return int(udenom.split('u')[0])"
   ]
  },
  {
   "cell_type": "code",
   "execution_count": 490,
   "id": "00890718",
   "metadata": {},
   "outputs": [],
   "source": [
    "def events (tx: Dict) -> List[Dict]:\n",
    "    tx_events = []\n",
    "    log = json.loads(tx['tx_result']['log'])\n",
    "    for item in log:\n",
    "        tx_events.append(item['events'])\n",
    "    return list(flatten(tx_events))\n",
    "\n",
    "def extract_reward_income (events: List[Dict], event_type):\n",
    "    denoms = []\n",
    "    for event in events:\n",
    "        if event['type'] == event_type:\n",
    "            attrs = event['attributes']\n",
    "            v = find_attr_value(attrs, 'amount')\n",
    "            v = udenom_to_int(v)\n",
    "            denoms.append(v)\n",
    "    return denoms\n",
    "\n",
    "def extract_transfer (events: List[Dict], event_type: str, attr_key: str, attr_value: str) -> List[int]:\n",
    "    '''\n",
    "    TODO - pretty similar to method above\n",
    "    '''\n",
    "    denoms = []\n",
    "    for event in events:\n",
    "        if event['type'] == event_type:\n",
    "            attrs = event['attributes']\n",
    "            x = find_attr_value(attrs, attr_key)\n",
    "            if x == attr_value:\n",
    "                v = find_attr_value(attrs, 'amount')\n",
    "                v = udenom_to_int(v)\n",
    "                denoms.append(v)\n",
    "    return denoms\n",
    "\n",
    "def extract_staking_rewards (events) -> List[int]:\n",
    "    return extract_reward_income(events, 'withdraw_commission')\n",
    "    \n",
    "def extract_staking_commission (events) -> List[int]:\n",
    "    return extract_reward_income(events, 'withdraw_rewards')\n",
    "\n",
    "def extract_staking_delegations(events) -> List[int]:\n",
    "    return extract_reward_income(events, 'delegate')\n",
    "\n",
    "def extract_receipts (events: List[Dict], my_address: str) -> List[int]:\n",
    "    return extract_transfer(events, 'coin_received', 'receiver', my_address)\n",
    "\n",
    "def extract_spends (events: List[Dict], my_address: str):\n",
    "    return extract_transfer(events, 'coin_spent', 'spender', my_address)"
   ]
  },
  {
   "cell_type": "markdown",
   "id": "c7f7997b",
   "metadata": {},
   "source": [
    "# Total lifetime income"
   ]
  },
  {
   "cell_type": "code",
   "execution_count": 491,
   "id": "fffcc29a",
   "metadata": {},
   "outputs": [],
   "source": [
    "def udenom_to_readable(udenom: int) -> float:\n",
    "    return udenom/1000000\n",
    "\n",
    "def sum_net_inflow_readable (txs: List[Dict]) -> float:\n",
    "    inflows = []\n",
    "    outflows = []\n",
    "    for tx in txs:\n",
    "        es = events(tx)\n",
    "        inflow = extract_staking_rewards(es) + extract_staking_commission(es) + extract_receipts(es, juno_addr)\n",
    "        outflow =  extract_staking_delegations(es) + extract_spends(es, juno_addr)\n",
    "        inflows.append(inflow)\n",
    "        outflows.append(outflow)\n",
    "    inflow =  sum(flatten(inflows)) - sum(flatten(outflows))\n",
    "    return udenom_to_readable(inflow)"
   ]
  },
  {
   "cell_type": "code",
   "execution_count": 591,
   "id": "298d79c2",
   "metadata": {},
   "outputs": [
    {
     "name": "stdout",
     "output_type": "stream",
     "text": [
      "querying page 1\n",
      "querying page 2\n",
      "querying page 3\n"
     ]
    },
    {
     "data": {
      "text/plain": [
       "2037.405522"
      ]
     },
     "execution_count": 591,
     "metadata": {},
     "output_type": "execute_result"
    }
   ],
   "source": [
    "query = f\"transfer.recipient='{juno_addr}'\"\n",
    "txs = list(historical_txs(juno_rpc, query))\n",
    "inflow = sum_net_inflow_readable(txs)\n",
    "inflow"
   ]
  },
  {
   "cell_type": "markdown",
   "id": "9c19ec2b",
   "metadata": {},
   "source": [
    "# Airdrop amount"
   ]
  },
  {
   "cell_type": "code",
   "execution_count": 592,
   "id": "da56f583",
   "metadata": {},
   "outputs": [
    {
     "data": {
      "text/plain": [
       "4234.147264"
      ]
     },
     "execution_count": 592,
     "metadata": {},
     "output_type": "execute_result"
    }
   ],
   "source": [
    "def get_amount (balance: dict) -> int:\n",
    "    return int(balance['amount'])\n",
    "\n",
    "def get_delegations (rest_endpoint: str, address: str) -> List[int]:\n",
    "    resp = get(\n",
    "        rest_endpoint +  f\"/cosmos/staking/v1beta1/delegations/{address}\"\n",
    "    ).json()\n",
    "    return [get_amount(d['balance']) for d in resp['delegation_responses']]\n",
    "\n",
    "udenom_to_readable(\n",
    "    get_delegations('https://lcd-juno.itastakers.com', juno_addr)[0]\n",
    ") - inflow"
   ]
  },
  {
   "cell_type": "markdown",
   "id": "b3ec783b",
   "metadata": {},
   "source": [
    "# FMV at time of receipt"
   ]
  },
  {
   "cell_type": "markdown",
   "id": "8415177f",
   "metadata": {},
   "source": [
    "### Block timing"
   ]
  },
  {
   "cell_type": "code",
   "execution_count": 352,
   "id": "250d9009",
   "metadata": {},
   "outputs": [
    {
     "data": {
      "text/plain": [
       "100546"
      ]
     },
     "execution_count": 352,
     "metadata": {},
     "output_type": "execute_result"
    }
   ],
   "source": [
    "def get_block_height (tx) -> int:\n",
    "    return int(tx['height'])\n",
    "\n",
    "get_block_height(ex_tx)"
   ]
  },
  {
   "cell_type": "code",
   "execution_count": 178,
   "id": "63e643d1",
   "metadata": {},
   "outputs": [
    {
     "data": {
      "text/plain": [
       "'2021-10-03T22:19:33.919092076Z'"
      ]
     },
     "execution_count": 178,
     "metadata": {},
     "output_type": "execute_result"
    }
   ],
   "source": [
    "def get_block_time (rpc: str, height: int) -> str:\n",
    "    return get(f'{rpc}/block?height={height}').json()['result']['block']['header']['time']\n",
    "\n",
    "\n",
    "get_block_time(juno_rpc, 32970)"
   ]
  },
  {
   "cell_type": "markdown",
   "id": "849bf047",
   "metadata": {},
   "source": [
    "### Align blocks with historical prices"
   ]
  },
  {
   "cell_type": "code",
   "execution_count": null,
   "id": "f6f50511",
   "metadata": {},
   "outputs": [],
   "source": []
  }
 ],
 "metadata": {
  "kernelspec": {
   "display_name": "Python 3 (ipykernel)",
   "language": "python",
   "name": "python3"
  },
  "language_info": {
   "codemirror_mode": {
    "name": "ipython",
    "version": 3
   },
   "file_extension": ".py",
   "mimetype": "text/x-python",
   "name": "python",
   "nbconvert_exporter": "python",
   "pygments_lexer": "ipython3",
   "version": "3.8.10"
  }
 },
 "nbformat": 4,
 "nbformat_minor": 5
}
